{
 "cells": [
  {
   "cell_type": "code",
   "execution_count": 1,
   "id": "65210f6a-7715-4a48-a25d-12a19b5575d1",
   "metadata": {},
   "outputs": [],
   "source": [
    "import numpy as np"
   ]
  },
  {
   "cell_type": "code",
   "execution_count": 2,
   "id": "485363fe-3243-473e-b1f6-d10ea7d51815",
   "metadata": {},
   "outputs": [
    {
     "data": {
      "text/plain": [
       "(200, 200, 2)"
      ]
     },
     "execution_count": 2,
     "metadata": {},
     "output_type": "execute_result"
    }
   ],
   "source": [
    "ground_truth_dataset = np.load(\"../dataset/random_5_p1_1_p5.npy\")\n",
    "ground_truth_dataset.shape"
   ]
  },
  {
   "cell_type": "code",
   "execution_count": 3,
   "id": "839d2be1-4564-4a78-b771-06eed37fc455",
   "metadata": {},
   "outputs": [],
   "source": [
    "def make_dataset(data, history_len=5):\n",
    "    \"\"\"\n",
    "    data: np.array of shape (N, T, 2)\n",
    "    history_len: number of past points used for prediction\n",
    "    Returns:\n",
    "      X: np.array of shape (M, history_len, 2)\n",
    "      y: np.array of shape (M, 2)\n",
    "    \"\"\"\n",
    "    N, T, D = data.shape\n",
    "    X_list, y_list = [], []\n",
    "    for traj in data:                      # loop over N trajectories\n",
    "        for t in range(T - history_len):  # t = 0,1,...,T-5-1\n",
    "            hist = traj[t : t + history_len]   # shape (5,2)\n",
    "            target = traj[t + history_len]     # shape (2,)\n",
    "            X_list.append(hist)\n",
    "            y_list.append(target)\n",
    "    X = np.stack(X_list, axis=0)  # (M,5,2)\n",
    "    y = np.stack(y_list, axis=0)  # (M,2)\n",
    "    return X, y"
   ]
  },
  {
   "cell_type": "code",
   "execution_count": 4,
   "id": "19a7db1c-6ad8-46ae-8ef1-a07d1e75d0cb",
   "metadata": {},
   "outputs": [
    {
     "name": "stdout",
     "output_type": "stream",
     "text": [
      "(39000, 5, 2)\n",
      "(39000, 2)\n"
     ]
    }
   ],
   "source": [
    "X, y = make_dataset(ground_truth_dataset)\n",
    "print(X.shape)\n",
    "print(y.shape)"
   ]
  },
  {
   "cell_type": "code",
   "execution_count": 5,
   "id": "63ffcc71-8379-4329-84fb-ea6a07e5e974",
   "metadata": {},
   "outputs": [
    {
     "name": "stdout",
     "output_type": "stream",
     "text": [
      "R² (val): 0.9999830617018373\n"
     ]
    }
   ],
   "source": [
    "from sklearn.linear_model import Ridge\n",
    "from sklearn.model_selection import train_test_split\n",
    "\n",
    "M, H, D = X.shape\n",
    "X_flat = X.copy().reshape(M, H*D)\n",
    "X_train, X_val, y_train, y_val = train_test_split(\n",
    "    X_flat, y,\n",
    "    test_size=0.2,\n",
    ")\n",
    "\n",
    "model = Ridge(alpha=1.0)\n",
    "model.fit(X_train, y_train)\n",
    "\n",
    "print(\"R² (val):\", model.score(X_val, y_val))"
   ]
  },
  {
   "cell_type": "code",
   "execution_count": 6,
   "id": "7b84bbf1-4b15-4cce-907f-3a6dba53a004",
   "metadata": {},
   "outputs": [],
   "source": [
    "import numpy as np\n",
    "from numpy.lib.stride_tricks import sliding_window_view\n",
    "\n",
    "def make_multi_step_preds_vec(X, model, history_len=5, tau=20, xy_limit=(0,5)):\n",
    "    \"\"\"\n",
    "    X:        (N, T, 2)\n",
    "    model:    fitted sklearn regressor mapping (history_len*2) → 2\n",
    "    history_len: number of past frames\n",
    "    tau:      how many steps to roll forward\n",
    "\n",
    "    Returns\n",
    "    -------\n",
    "    preds:    (N, T, tau, 2)\n",
    "    \"\"\"\n",
    "    N, T, D = X.shape\n",
    "    assert D == 2\n",
    "\n",
    "    pad_amount = history_len - 1\n",
    "    pad = np.repeat(X[:, :1, :], pad_amount, axis=1)\n",
    "    Xpad = np.concatenate([pad, X], axis=1)  # (N, T+hist_len-1, 2)\n",
    "\n",
    "    windows = sliding_window_view(Xpad, window_shape=history_len, axis=1) # (N, T, 2, hist_len)\n",
    "    windows = windows.transpose(0, 1, 3, 2)  # (N, T, hist_len, 2)\n",
    "\n",
    "    preds = np.zeros((N, T, tau, 2), dtype=X.dtype)\n",
    "    current = windows  # shape (N, T, hist_len, 2)\n",
    "\n",
    "    for k in range(tau):\n",
    "        feats = current.reshape(N*T, history_len*2)  # (N*T, hist_len*2)\n",
    "        nxt = model.predict(feats) # (N*T, 2)\n",
    "        nxt = nxt.reshape(N, T, 2) # (N, T, 2)\n",
    "        preds[:, :, k, :] = nxt\n",
    "\n",
    "        # row window forward\n",
    "        current = np.concatenate([\n",
    "            current[:, :, 1:, :], # drop lag-0\n",
    "            nxt[:, :, None, :]    # append at end\n",
    "        ], axis=2)\n",
    "\n",
    "    return np.clip(preds, *xy_limit)"
   ]
  },
  {
   "cell_type": "code",
   "execution_count": 7,
   "id": "f6f3327b-e09b-401c-81a7-290654136dcc",
   "metadata": {},
   "outputs": [],
   "source": [
    "prediction_dataset = make_multi_step_preds_vec(ground_truth_dataset, model)\n",
    "np.save(\"../dataset/random_5_p1_1_p5_pred_20\", prediction_dataset)"
   ]
  },
  {
   "cell_type": "code",
   "execution_count": 8,
   "id": "f1b73139-45ca-4358-b750-f3fd7237088e",
   "metadata": {},
   "outputs": [],
   "source": [
    "import os, pickle\n",
    "\n",
    "save_dir = \"../dataset/\"\n",
    "os.makedirs(save_dir, exist_ok=True)\n",
    "\n",
    "model_path = os.path.join(save_dir, \"random_5_p1_1_p5_ridge_model.pkl\")\n",
    "with open(model_path, \"wb\") as f:\n",
    "    pickle.dump(model, f)"
   ]
  },
  {
   "cell_type": "code",
   "execution_count": null,
   "id": "b948364d-ed3f-4fe5-bd08-4c73cb9e2cf5",
   "metadata": {},
   "outputs": [],
   "source": []
  }
 ],
 "metadata": {
  "kernelspec": {
   "display_name": "ds",
   "language": "python",
   "name": "python3"
  },
  "language_info": {
   "codemirror_mode": {
    "name": "ipython",
    "version": 3
   },
   "file_extension": ".py",
   "mimetype": "text/x-python",
   "name": "python",
   "nbconvert_exporter": "python",
   "pygments_lexer": "ipython3",
   "version": "3.10.17"
  }
 },
 "nbformat": 4,
 "nbformat_minor": 5
}
